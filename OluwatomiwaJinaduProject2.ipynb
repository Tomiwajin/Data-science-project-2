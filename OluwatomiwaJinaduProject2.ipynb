{
 "cells": [
  {
   "cell_type": "markdown",
   "id": "6a07b0dd",
   "metadata": {},
   "source": [
    "Title: Predicting the house price per unit area using features from the dataset.\n",
    "\n",
    "This model aims to predict the house price per unit area. To build a model that predicts the house price per unit area i would be making use of a data set that contains real estate information such as the house age, latitude,longitude,distance to the nearest Mrt Station e.t.c.\n",
    "\n",
    "This csv file contains a data set of real estate informations:\n",
    "\n",
    "https://www.kaggle.com/datasets/quantbruce/real-estate-price-prediction"
   ]
  },
  {
   "cell_type": "code",
   "execution_count": 51,
   "id": "bb0e5493",
   "metadata": {},
   "outputs": [],
   "source": [
    "#import csv file\n",
    "\n",
    "import pandas as pd\n",
    "import matplotlib.pyplot as plt\n",
    "import seaborn as sns\n",
    "from sklearn.feature_selection import SelectKBest, f_classif, chi2\n",
    "import numpy as np\n",
    "from sklearn.model_selection import train_test_split\n",
    "from sklearn.linear_model import LinearRegression\n",
    "\n",
    "df = pd.read_csv('Real estate.csv')"
   ]
  },
  {
   "cell_type": "code",
   "execution_count": 52,
   "id": "f6c5ea7e",
   "metadata": {
    "scrolled": true
   },
   "outputs": [
    {
     "data": {
      "text/plain": [
       "Index(['No', 'X1 transaction date', 'X2 house age',\n",
       "       'X3 distance to the nearest MRT station',\n",
       "       'X4 number of convenience stores', 'X5 latitude', 'X6 longitude',\n",
       "       'Y house price of unit area'],\n",
       "      dtype='object')"
      ]
     },
     "execution_count": 52,
     "metadata": {},
     "output_type": "execute_result"
    }
   ],
   "source": [
    "#Data cleaning \n",
    "\n",
    "df.columns"
   ]
  },
  {
   "cell_type": "code",
   "execution_count": 53,
   "id": "a47a554b",
   "metadata": {},
   "outputs": [],
   "source": [
    "#Remove features that are not used in this model\n",
    "\n",
    "remove = ['No', 'X1 transaction date']\n",
    "df.drop(remove, inplace=True, axis=1)"
   ]
  },
  {
   "cell_type": "code",
   "execution_count": 54,
   "id": "5d4ffcca",
   "metadata": {},
   "outputs": [
    {
     "data": {
      "text/plain": [
       "Index(['X2 house age', 'X3 distance to the nearest MRT station',\n",
       "       'X4 number of convenience stores', 'X5 latitude', 'X6 longitude',\n",
       "       'Y house price of unit area'],\n",
       "      dtype='object')"
      ]
     },
     "execution_count": 54,
     "metadata": {},
     "output_type": "execute_result"
    }
   ],
   "source": [
    "#Check if features were removed\n",
    "df.columns"
   ]
  },
  {
   "cell_type": "code",
   "execution_count": 55,
   "id": "d98ef375",
   "metadata": {},
   "outputs": [
    {
     "name": "stdout",
     "output_type": "stream",
     "text": [
      "Missing Values : \n",
      " X2 house age                              0\n",
      "X3 distance to the nearest MRT station    0\n",
      "X4 number of convenience stores           0\n",
      "X5 latitude                               0\n",
      "X6 longitude                              0\n",
      "Y house price of unit area                0\n",
      "dtype: int64\n"
     ]
    }
   ],
   "source": [
    "# Check for missing values in each column\n",
    "missing_values = df.isnull().sum()\n",
    "\n",
    "print(f\"Missing Values : \\n {missing_values}\")"
   ]
  },
  {
   "cell_type": "code",
   "execution_count": 56,
   "id": "8b6c2c1a",
   "metadata": {},
   "outputs": [
    {
     "data": {
      "text/plain": [
       "42.5    4\n",
       "40.3    4\n",
       "29.3    4\n",
       "40.6    4\n",
       "37.4    4\n",
       "       ..\n",
       "55.9    1\n",
       "22.9    1\n",
       "21.5    1\n",
       "55.1    1\n",
       "63.9    1\n",
       "Name: target, Length: 270, dtype: int64"
      ]
     },
     "execution_count": 56,
     "metadata": {},
     "output_type": "execute_result"
    }
   ],
   "source": [
    "# rename the target variable\n",
    "df = df.rename(columns={'Y house price of unit area' : 'target'})\n",
    "df['target'].value_counts(dropna=False)"
   ]
  },
  {
   "cell_type": "code",
   "execution_count": 57,
   "id": "14566e85",
   "metadata": {},
   "outputs": [
    {
     "data": {
      "text/plain": [
       "0.0     17\n",
       "13.6     7\n",
       "13.3     6\n",
       "16.2     6\n",
       "16.4     6\n",
       "        ..\n",
       "30.2     1\n",
       "4.3      1\n",
       "24.0     1\n",
       "8.4      1\n",
       "18.8     1\n",
       "Name: Age, Length: 236, dtype: int64"
      ]
     },
     "execution_count": 57,
     "metadata": {},
     "output_type": "execute_result"
    }
   ],
   "source": [
    "#Rename other features \n",
    "\n",
    "#Rename 'X2 house age' column\n",
    "df = df.rename(columns={'X2 house age' : 'Age'})\n",
    "df['Age'].value_counts(dropna=False)\n"
   ]
  },
  {
   "cell_type": "code",
   "execution_count": 58,
   "id": "aba53c21",
   "metadata": {},
   "outputs": [
    {
     "data": {
      "text/plain": [
       "289.32480     13\n",
       "90.45606      11\n",
       "492.23130      9\n",
       "1360.13900     8\n",
       "104.81010      8\n",
       "              ..\n",
       "4527.68700     1\n",
       "401.88070      1\n",
       "432.03850      1\n",
       "472.17450      1\n",
       "390.96960      1\n",
       "Name: MRT_Station_Distance, Length: 259, dtype: int64"
      ]
     },
     "execution_count": 58,
     "metadata": {},
     "output_type": "execute_result"
    }
   ],
   "source": [
    "#Rename 'X3 distance to the nearest MRT station' column\n",
    "df = df.rename(columns={'X3 distance to the nearest MRT station' : 'MRT_Station_Distance'})\n",
    "df['MRT_Station_Distance'].value_counts(dropna=False)"
   ]
  },
  {
   "cell_type": "code",
   "execution_count": 59,
   "id": "7e880740",
   "metadata": {},
   "outputs": [
    {
     "data": {
      "text/plain": [
       "5     67\n",
       "0     67\n",
       "3     46\n",
       "1     46\n",
       "6     37\n",
       "7     31\n",
       "4     31\n",
       "8     30\n",
       "9     25\n",
       "2     24\n",
       "10    10\n",
       "Name: Convenience_store_count, dtype: int64"
      ]
     },
     "execution_count": 59,
     "metadata": {},
     "output_type": "execute_result"
    }
   ],
   "source": [
    "#Rename 'X4 number of convenience stores' column\n",
    "df = df.rename(columns={'X4 number of convenience stores' : 'Convenience_store_count'})\n",
    "df['Convenience_store_count'].value_counts(dropna=False)"
   ]
  },
  {
   "cell_type": "code",
   "execution_count": 60,
   "id": "9714f604",
   "metadata": {},
   "outputs": [
    {
     "data": {
      "text/plain": [
       "24.97433    14\n",
       "24.98203    13\n",
       "24.96674     9\n",
       "24.96515     9\n",
       "24.96299     8\n",
       "            ..\n",
       "24.98034     1\n",
       "24.97493     1\n",
       "24.94898     1\n",
       "24.98489     1\n",
       "24.97923     1\n",
       "Name: Latitude, Length: 234, dtype: int64"
      ]
     },
     "execution_count": 60,
     "metadata": {},
     "output_type": "execute_result"
    }
   ],
   "source": [
    "#Rename 'X5 latitude' column\n",
    "df = df.rename(columns={'X5 latitude' : 'Latitude'})\n",
    "df['Latitude'].value_counts(dropna=False)"
   ]
  },
  {
   "cell_type": "code",
   "execution_count": 61,
   "id": "7ddbecac",
   "metadata": {},
   "outputs": [
    {
     "data": {
      "text/plain": [
       "24.97433    14\n",
       "24.98203    13\n",
       "24.96674     9\n",
       "24.96515     9\n",
       "24.96299     8\n",
       "            ..\n",
       "24.98034     1\n",
       "24.97493     1\n",
       "24.94898     1\n",
       "24.98489     1\n",
       "24.97923     1\n",
       "Name: Latitude, Length: 234, dtype: int64"
      ]
     },
     "execution_count": 61,
     "metadata": {},
     "output_type": "execute_result"
    }
   ],
   "source": [
    "#Rename 'X6 longitude' column\n",
    "df = df.rename(columns={'X6 longitude' : 'Longitude'})\n",
    "df['Latitude'].value_counts(dropna=False)  "
   ]
  },
  {
   "cell_type": "code",
   "execution_count": 62,
   "id": "c3408e19",
   "metadata": {},
   "outputs": [
    {
     "name": "stdout",
     "output_type": "stream",
     "text": [
      "182\n"
     ]
    }
   ],
   "source": [
    "# Check for duplicates in the 'Longitude' column\n",
    "\n",
    "duplicates = df.duplicated(subset= ['Longitude'], keep='first')\n",
    "\n",
    "print(sum(duplicates))"
   ]
  },
  {
   "cell_type": "code",
   "execution_count": 63,
   "id": "f21d51a9",
   "metadata": {},
   "outputs": [
    {
     "name": "stdout",
     "output_type": "stream",
     "text": [
      "180\n"
     ]
    }
   ],
   "source": [
    "#Check for duplicates in the 'Latitude' column\n",
    "\n",
    "duplicates = df.duplicated(subset= ['Latitude'], keep='first')\n",
    "\n",
    "print(sum(duplicates))"
   ]
  },
  {
   "cell_type": "code",
   "execution_count": 64,
   "id": "b82db546",
   "metadata": {},
   "outputs": [
    {
     "name": "stdout",
     "output_type": "stream",
     "text": [
      "Number of duplicates removed: 180\n",
      "DataFrame shape before deduplication: 594\n",
      "DataFrame shape after deduplication: 414\n"
     ]
    }
   ],
   "source": [
    "# Remove duplicate with same 'Latitude' and 'Longitude'\n",
    "\n",
    "df.drop_duplicates(subset= ['Latitude', 'Longitude'], keep='last')\n",
    "\n",
    "shape_before = df.shape[0] + sum(duplicates)\n",
    "shape_after = df.shape[0]\n",
    "\n",
    "# Calculate the number of duplicates removed\n",
    "duplicates_removed = shape_before - shape_after\n",
    "\n",
    "# Print the number of duplicates removed and the updated DataFrame shape\n",
    "print(f\"Number of duplicates removed: {duplicates_removed}\")\n",
    "print(f\"DataFrame shape before deduplication: {shape_before}\")\n",
    "print(f\"DataFrame shape after deduplication: {shape_after}\")"
   ]
  },
  {
   "cell_type": "code",
   "execution_count": 65,
   "id": "0ceb9dd6",
   "metadata": {},
   "outputs": [
    {
     "data": {
      "text/plain": [
       "<Axes: >"
      ]
     },
     "execution_count": 65,
     "metadata": {},
     "output_type": "execute_result"
    }
   ],
   "source": [
    "#check for outliers\n",
    "\n",
    "df.boxplot(column=['target'])"
   ]
  },
  {
   "cell_type": "code",
   "execution_count": 66,
   "id": "6c6eb39e",
   "metadata": {},
   "outputs": [
    {
     "data": {
      "text/plain": [
       "<Axes: >"
      ]
     },
     "execution_count": 66,
     "metadata": {},
     "output_type": "execute_result"
    }
   ],
   "source": [
    "#Remove outliers \n",
    "\n",
    "df = df[df['target'] < 100]\n",
    "df.boxplot(column=['target'])"
   ]
  },
  {
   "cell_type": "code",
   "execution_count": 67,
   "id": "cd4934e1",
   "metadata": {},
   "outputs": [],
   "source": [
    "#Feature Engineering\n",
    "x = df.loc[:, ['Age', 'MRT_Station_Distance', 'Convenience_store_count', 'Latitude', 'Longitude']]\n",
    "y = df.loc[:, 'target'] "
   ]
  },
  {
   "cell_type": "code",
   "execution_count": 68,
   "id": "e6a69a67",
   "metadata": {},
   "outputs": [
    {
     "name": "stdout",
     "output_type": "stream",
     "text": [
      "F-Score: [1.61752597 4.80511195 2.01107741 2.36130223 1.91004868]\n",
      "P-Values: [0.00073162 0.         0.00000254 0.00000001 0.00001122]\n"
     ]
    }
   ],
   "source": [
    "np.set_printoptions(suppress = True)\n",
    "fs = SelectKBest(score_func=f_classif, k='all')\n",
    "bestFeatures = fs.fit(x, y)\n",
    "print(f'F-Score: {bestFeatures.scores_}')\n",
    "print(f'P-Values: {bestFeatures.pvalues_}')"
   ]
  },
  {
   "cell_type": "markdown",
   "id": "eaddc60e",
   "metadata": {},
   "source": [
    "No feature is irrelevant to the target variable. The feature MRT_Station_Distance has a hight correleation with the target variable."
   ]
  },
  {
   "cell_type": "code",
   "execution_count": 69,
   "id": "29e28493",
   "metadata": {},
   "outputs": [],
   "source": [
    "#Split the dataset into 80% training dataset and 20% testing dataset. \n",
    "\n",
    "# Split the data into X and Y\n",
    "X = df.drop(columns=['target'])\n",
    "y =df['target']\n",
    "\n",
    "# Split the data into training (80%) and testing (20%) datasets\n",
    "X_train, X_test, y_train, y_test = train_test_split(X, y, test_size=0.2, random_state=5)\n"
   ]
  },
  {
   "cell_type": "code",
   "execution_count": 70,
   "id": "aa2b3c20",
   "metadata": {},
   "outputs": [
    {
     "name": "stdout",
     "output_type": "stream",
     "text": [
      "X_train shape: (330, 5)\n",
      "X_test shape: (83, 5)\n",
      "y_train shape: (330,)\n",
      "y_test shape: (83,)\n"
     ]
    }
   ],
   "source": [
    "# check the shape of the training data and testing data\n",
    "print(\"X_train shape:\", X_train.shape)\n",
    "print(\"X_test shape:\", X_test.shape)\n",
    "print(\"y_train shape:\", y_train.shape)\n",
    "print(\"y_test shape:\", y_test.shape)"
   ]
  },
  {
   "cell_type": "code",
   "execution_count": 72,
   "id": "562eee47",
   "metadata": {},
   "outputs": [
    {
     "data": {
      "text/html": [
       "<style>#sk-container-id-2 {color: black;}#sk-container-id-2 pre{padding: 0;}#sk-container-id-2 div.sk-toggleable {background-color: white;}#sk-container-id-2 label.sk-toggleable__label {cursor: pointer;display: block;width: 100%;margin-bottom: 0;padding: 0.3em;box-sizing: border-box;text-align: center;}#sk-container-id-2 label.sk-toggleable__label-arrow:before {content: \"▸\";float: left;margin-right: 0.25em;color: #696969;}#sk-container-id-2 label.sk-toggleable__label-arrow:hover:before {color: black;}#sk-container-id-2 div.sk-estimator:hover label.sk-toggleable__label-arrow:before {color: black;}#sk-container-id-2 div.sk-toggleable__content {max-height: 0;max-width: 0;overflow: hidden;text-align: left;background-color: #f0f8ff;}#sk-container-id-2 div.sk-toggleable__content pre {margin: 0.2em;color: black;border-radius: 0.25em;background-color: #f0f8ff;}#sk-container-id-2 input.sk-toggleable__control:checked~div.sk-toggleable__content {max-height: 200px;max-width: 100%;overflow: auto;}#sk-container-id-2 input.sk-toggleable__control:checked~label.sk-toggleable__label-arrow:before {content: \"▾\";}#sk-container-id-2 div.sk-estimator input.sk-toggleable__control:checked~label.sk-toggleable__label {background-color: #d4ebff;}#sk-container-id-2 div.sk-label input.sk-toggleable__control:checked~label.sk-toggleable__label {background-color: #d4ebff;}#sk-container-id-2 input.sk-hidden--visually {border: 0;clip: rect(1px 1px 1px 1px);clip: rect(1px, 1px, 1px, 1px);height: 1px;margin: -1px;overflow: hidden;padding: 0;position: absolute;width: 1px;}#sk-container-id-2 div.sk-estimator {font-family: monospace;background-color: #f0f8ff;border: 1px dotted black;border-radius: 0.25em;box-sizing: border-box;margin-bottom: 0.5em;}#sk-container-id-2 div.sk-estimator:hover {background-color: #d4ebff;}#sk-container-id-2 div.sk-parallel-item::after {content: \"\";width: 100%;border-bottom: 1px solid gray;flex-grow: 1;}#sk-container-id-2 div.sk-label:hover label.sk-toggleable__label {background-color: #d4ebff;}#sk-container-id-2 div.sk-serial::before {content: \"\";position: absolute;border-left: 1px solid gray;box-sizing: border-box;top: 0;bottom: 0;left: 50%;z-index: 0;}#sk-container-id-2 div.sk-serial {display: flex;flex-direction: column;align-items: center;background-color: white;padding-right: 0.2em;padding-left: 0.2em;position: relative;}#sk-container-id-2 div.sk-item {position: relative;z-index: 1;}#sk-container-id-2 div.sk-parallel {display: flex;align-items: stretch;justify-content: center;background-color: white;position: relative;}#sk-container-id-2 div.sk-item::before, #sk-container-id-2 div.sk-parallel-item::before {content: \"\";position: absolute;border-left: 1px solid gray;box-sizing: border-box;top: 0;bottom: 0;left: 50%;z-index: -1;}#sk-container-id-2 div.sk-parallel-item {display: flex;flex-direction: column;z-index: 1;position: relative;background-color: white;}#sk-container-id-2 div.sk-parallel-item:first-child::after {align-self: flex-end;width: 50%;}#sk-container-id-2 div.sk-parallel-item:last-child::after {align-self: flex-start;width: 50%;}#sk-container-id-2 div.sk-parallel-item:only-child::after {width: 0;}#sk-container-id-2 div.sk-dashed-wrapped {border: 1px dashed gray;margin: 0 0.4em 0.5em 0.4em;box-sizing: border-box;padding-bottom: 0.4em;background-color: white;}#sk-container-id-2 div.sk-label label {font-family: monospace;font-weight: bold;display: inline-block;line-height: 1.2em;}#sk-container-id-2 div.sk-label-container {text-align: center;}#sk-container-id-2 div.sk-container {/* jupyter's `normalize.less` sets `[hidden] { display: none; }` but bootstrap.min.css set `[hidden] { display: none !important; }` so we also need the `!important` here to be able to override the default hidden behavior on the sphinx rendered scikit-learn.org. See: https://github.com/scikit-learn/scikit-learn/issues/21755 */display: inline-block !important;position: relative;}#sk-container-id-2 div.sk-text-repr-fallback {display: none;}</style><div id=\"sk-container-id-2\" class=\"sk-top-container\"><div class=\"sk-text-repr-fallback\"><pre>LinearRegression()</pre><b>In a Jupyter environment, please rerun this cell to show the HTML representation or trust the notebook. <br />On GitHub, the HTML representation is unable to render, please try loading this page with nbviewer.org.</b></div><div class=\"sk-container\" hidden><div class=\"sk-item\"><div class=\"sk-estimator sk-toggleable\"><input class=\"sk-toggleable__control sk-hidden--visually\" id=\"sk-estimator-id-2\" type=\"checkbox\" checked><label for=\"sk-estimator-id-2\" class=\"sk-toggleable__label sk-toggleable__label-arrow\">LinearRegression</label><div class=\"sk-toggleable__content\"><pre>LinearRegression()</pre></div></div></div></div></div>"
      ],
      "text/plain": [
       "LinearRegression()"
      ]
     },
     "execution_count": 72,
     "metadata": {},
     "output_type": "execute_result"
    }
   ],
   "source": [
    "#Build a simple linear regression model for this data. Plotting the Linear Regression Line with the scatter plot\n",
    "\n",
    "# Create and fit a linear regression model\n",
    "\n",
    "model = LinearRegression()\n",
    "model.fit(X_train, y_train)"
   ]
  },
  {
   "cell_type": "code",
   "execution_count": 76,
   "id": "4427f558",
   "metadata": {},
   "outputs": [
    {
     "name": "stdout",
     "output_type": "stream",
     "text": [
      "R-squared value: 0.6323\n"
     ]
    }
   ],
   "source": [
    "# Calculate the R-squared value\n",
    "print(\"R-squared value: %.4f\" %  model.score(X_train,y_train))"
   ]
  }
 ],
 "metadata": {
  "kernelspec": {
   "display_name": "Python 3 (ipykernel)",
   "language": "python",
   "name": "python3"
  },
  "language_info": {
   "codemirror_mode": {
    "name": "ipython",
    "version": 3
   },
   "file_extension": ".py",
   "mimetype": "text/x-python",
   "name": "python",
   "nbconvert_exporter": "python",
   "pygments_lexer": "ipython3",
   "version": "3.11.4"
  }
 },
 "nbformat": 4,
 "nbformat_minor": 5
}
